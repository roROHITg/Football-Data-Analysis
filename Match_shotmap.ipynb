{
 "cells": [
  {
   "cell_type": "code",
   "execution_count": 1,
   "metadata": {},
   "outputs": [],
   "source": [
    "matchId= '12007508'"
   ]
  },
  {
   "cell_type": "code",
   "execution_count": 2,
   "metadata": {},
   "outputs": [],
   "source": [
    "import requests\n",
    "\n",
    "params = {\n",
    "    'matchId': matchId,\n",
    "}\n",
    "\n",
    "response = requests.get('https://www.sofascore.com/api/v1/event/'+ matchId +'/shotmap', params)"
   ]
  },
  {
   "cell_type": "code",
   "execution_count": 3,
   "metadata": {},
   "outputs": [],
   "source": [
    "data = response.json()"
   ]
  },
  {
   "cell_type": "code",
   "execution_count": 4,
   "metadata": {},
   "outputs": [],
   "source": [
    "shots_data = []\n",
    "for shot in data['shotmap']:\n",
    "    shot_info = {\n",
    "        'name': shot['player']['name'],\n",
    "        'isHome': shot['isHome'],\n",
    "        'shotType': shot['shotType'],\n",
    "        'x': shot['draw']['start']['x'],\n",
    "        'y': shot['draw']['start']['y']\n",
    "    }\n",
    "    shots_data.append(shot_info)"
   ]
  },
  {
   "cell_type": "code",
   "execution_count": 5,
   "metadata": {},
   "outputs": [],
   "source": [
    "# Separate data into home and away shots\n",
    "home_shots = [shot for shot in shots_data if shot['isHome']]\n",
    "away_shots = [shot for shot in shots_data if not shot['isHome']]"
   ]
  },
  {
   "cell_type": "code",
   "execution_count": 6,
   "metadata": {},
   "outputs": [],
   "source": [
    "import pandas as pd"
   ]
  },
  {
   "cell_type": "code",
   "execution_count": 7,
   "metadata": {},
   "outputs": [],
   "source": [
    "shotmapHome = pd.DataFrame(home_shots)\n",
    "shotmapAway = pd.DataFrame(away_shots)"
   ]
  },
  {
   "cell_type": "code",
   "execution_count": 8,
   "metadata": {},
   "outputs": [
    {
     "data": {
      "text/html": [
       "<div>\n",
       "<style scoped>\n",
       "    .dataframe tbody tr th:only-of-type {\n",
       "        vertical-align: middle;\n",
       "    }\n",
       "\n",
       "    .dataframe tbody tr th {\n",
       "        vertical-align: top;\n",
       "    }\n",
       "\n",
       "    .dataframe thead th {\n",
       "        text-align: right;\n",
       "    }\n",
       "</style>\n",
       "<table border=\"1\" class=\"dataframe\">\n",
       "  <thead>\n",
       "    <tr style=\"text-align: right;\">\n",
       "      <th></th>\n",
       "      <th>name</th>\n",
       "      <th>isHome</th>\n",
       "      <th>shotType</th>\n",
       "      <th>x</th>\n",
       "      <th>y</th>\n",
       "    </tr>\n",
       "  </thead>\n",
       "  <tbody>\n",
       "    <tr>\n",
       "      <th>0</th>\n",
       "      <td>Nandhakumar Sekar</td>\n",
       "      <td>True</td>\n",
       "      <td>block</td>\n",
       "      <td>24.9</td>\n",
       "      <td>19.8</td>\n",
       "    </tr>\n",
       "    <tr>\n",
       "      <th>1</th>\n",
       "      <td>Vishnu PV</td>\n",
       "      <td>True</td>\n",
       "      <td>miss</td>\n",
       "      <td>58.7</td>\n",
       "      <td>24.6</td>\n",
       "    </tr>\n",
       "    <tr>\n",
       "      <th>2</th>\n",
       "      <td>Cleiton Silva</td>\n",
       "      <td>True</td>\n",
       "      <td>save</td>\n",
       "      <td>23.0</td>\n",
       "      <td>22.1</td>\n",
       "    </tr>\n",
       "    <tr>\n",
       "      <th>3</th>\n",
       "      <td>Vishnu PV</td>\n",
       "      <td>True</td>\n",
       "      <td>miss</td>\n",
       "      <td>59.4</td>\n",
       "      <td>10.3</td>\n",
       "    </tr>\n",
       "    <tr>\n",
       "      <th>4</th>\n",
       "      <td>Cleiton Silva</td>\n",
       "      <td>True</td>\n",
       "      <td>miss</td>\n",
       "      <td>50.1</td>\n",
       "      <td>24.7</td>\n",
       "    </tr>\n",
       "  </tbody>\n",
       "</table>\n",
       "</div>"
      ],
      "text/plain": [
       "                name  isHome shotType     x     y\n",
       "0  Nandhakumar Sekar    True    block  24.9  19.8\n",
       "1          Vishnu PV    True     miss  58.7  24.6\n",
       "2      Cleiton Silva    True     save  23.0  22.1\n",
       "3          Vishnu PV    True     miss  59.4  10.3\n",
       "4      Cleiton Silva    True     miss  50.1  24.7"
      ]
     },
     "execution_count": 8,
     "metadata": {},
     "output_type": "execute_result"
    }
   ],
   "source": [
    "shotmapHome.head()"
   ]
  },
  {
   "cell_type": "code",
   "execution_count": 9,
   "metadata": {},
   "outputs": [
    {
     "data": {
      "text/html": [
       "<div>\n",
       "<style scoped>\n",
       "    .dataframe tbody tr th:only-of-type {\n",
       "        vertical-align: middle;\n",
       "    }\n",
       "\n",
       "    .dataframe tbody tr th {\n",
       "        vertical-align: top;\n",
       "    }\n",
       "\n",
       "    .dataframe thead th {\n",
       "        text-align: right;\n",
       "    }\n",
       "</style>\n",
       "<table border=\"1\" class=\"dataframe\">\n",
       "  <thead>\n",
       "    <tr style=\"text-align: right;\">\n",
       "      <th></th>\n",
       "      <th>name</th>\n",
       "      <th>isHome</th>\n",
       "      <th>shotType</th>\n",
       "      <th>x</th>\n",
       "      <th>y</th>\n",
       "    </tr>\n",
       "  </thead>\n",
       "  <tbody>\n",
       "    <tr>\n",
       "      <th>0</th>\n",
       "      <td>Dimitri Petratos</td>\n",
       "      <td>False</td>\n",
       "      <td>block</td>\n",
       "      <td>64.0</td>\n",
       "      <td>14.4</td>\n",
       "    </tr>\n",
       "    <tr>\n",
       "      <th>1</th>\n",
       "      <td>Anirudh Thapa</td>\n",
       "      <td>False</td>\n",
       "      <td>block</td>\n",
       "      <td>57.2</td>\n",
       "      <td>29.0</td>\n",
       "    </tr>\n",
       "    <tr>\n",
       "      <th>2</th>\n",
       "      <td>Liston Colaco</td>\n",
       "      <td>False</td>\n",
       "      <td>miss</td>\n",
       "      <td>32.3</td>\n",
       "      <td>8.6</td>\n",
       "    </tr>\n",
       "    <tr>\n",
       "      <th>3</th>\n",
       "      <td>Sahal Abdul Samad</td>\n",
       "      <td>False</td>\n",
       "      <td>miss</td>\n",
       "      <td>32.5</td>\n",
       "      <td>13.0</td>\n",
       "    </tr>\n",
       "    <tr>\n",
       "      <th>4</th>\n",
       "      <td>Jason Cummings</td>\n",
       "      <td>False</td>\n",
       "      <td>save</td>\n",
       "      <td>50.7</td>\n",
       "      <td>15.1</td>\n",
       "    </tr>\n",
       "  </tbody>\n",
       "</table>\n",
       "</div>"
      ],
      "text/plain": [
       "                name  isHome shotType     x     y\n",
       "0   Dimitri Petratos   False    block  64.0  14.4\n",
       "1      Anirudh Thapa   False    block  57.2  29.0\n",
       "2      Liston Colaco   False     miss  32.3   8.6\n",
       "3  Sahal Abdul Samad   False     miss  32.5  13.0\n",
       "4     Jason Cummings   False     save  50.7  15.1"
      ]
     },
     "execution_count": 9,
     "metadata": {},
     "output_type": "execute_result"
    }
   ],
   "source": [
    "shotmapAway.head()"
   ]
  },
  {
   "cell_type": "code",
   "execution_count": 10,
   "metadata": {},
   "outputs": [],
   "source": [
    "shotmapHome.x= 100- shotmapHome.x\n",
    "shotmapHome.y= 100- shotmapHome.y\n",
    "shotmapAway.x= 100- shotmapAway.x\n",
    "shotmapAway.y= 100- shotmapAway.y"
   ]
  },
  {
   "cell_type": "code",
   "execution_count": 11,
   "metadata": {},
   "outputs": [],
   "source": [
    "hteam_df_g = shotmapHome[shotmapHome[\"shotType\"] == \"goal\"]\n",
    "hteam_df_ng = shotmapHome[shotmapHome[\"shotType\"] != \"goal\"]\n",
    "\n",
    "ateam_df_g = shotmapAway[shotmapAway[\"shotType\"] == \"goal\"]\n",
    "ateam_df_ng = shotmapAway[shotmapAway[\"shotType\"] != \"goal\"]"
   ]
  },
  {
   "cell_type": "code",
   "execution_count": 12,
   "metadata": {},
   "outputs": [],
   "source": [
    "import matplotlib.pyplot as plt\n",
    "from mplsoccer import VerticalPitch, Pitch"
   ]
  },
  {
   "cell_type": "code",
   "execution_count": 13,
   "metadata": {},
   "outputs": [
    {
     "data": {
      "image/png": "[encoded data removed]",
      "text/plain": [
       "<Figure size 640x480 with 1 Axes>"
      ]
     },
     "metadata": {},
     "output_type": "display_data"
    }
   ],
   "source": [
    "pitch = VerticalPitch(pitch_type='opta',half=True, pitch_color='white', line_color='black',pad_bottom=0.15)\n",
    "fig, ax = pitch.draw()\n",
    "# hteam non goals shots:\n",
    "hteam_sc_ng = pitch.scatter(hteam_df_ng[\"y\"], hteam_df_ng[\"x\"],s = 100,\n",
    "                         marker=\"o\", c= 'Green', ax=ax, edgecolors='Black',linewidth = 1, label = \" Shots\")\n",
    "# hteam goals:\n",
    "hteam_sc_g = pitch.scatter(hteam_df_g[\"y\"], hteam_df_g[\"x\"], s = 200,\n",
    "                         marker=\"o\",c= 'Red', ax=ax,  edgecolors='Black',linewidth = 1, label = \" Goals\")\n",
    "\n",
    "ax.legend(loc='upper center', bbox_to_anchor=(0.5, 0), frameon= False, ncol=2)\n",
    "plt.savefig('Home Shotmap.png',  bbox_inches='tight')\n",
    "plt.show()"
   ]
  },
  {
   "cell_type": "code",
   "execution_count": 14,
   "metadata": {},
   "outputs": [
    {
     "data": {
      "image/png": "[encoded data removed]",
      "text/plain": [
       "<Figure size 640x480 with 1 Axes>"
      ]
     },
     "metadata": {},
     "output_type": "display_data"
    }
   ],
   "source": [
    "pitch = VerticalPitch(pitch_type='opta',half=True, pitch_color='white', line_color='black',pad_bottom=0.15)\n",
    "fig, ax = pitch.draw()\n",
    "# hteam non goals shots:\n",
    "ateam_sc_ng = pitch.scatter(ateam_df_ng[\"y\"], ateam_df_ng[\"x\"],s = 100,\n",
    "                         marker=\"o\", c= 'green', ax=ax, edgecolors='Black',linewidth = 1, label = \" Shots\")\n",
    "\n",
    "# hteam goals:\n",
    "ateam_sc_g = pitch.scatter(ateam_df_g[\"y\"], ateam_df_g[\"x\"], s = 200,\n",
    "                         marker=\"o\",c= 'red', ax=ax, edgecolors='black',linewidth = 1, label = \" Goals\")\n",
    "\n",
    "ax.legend(loc='upper center', bbox_to_anchor=(0.5, 0), frameon= False, ncol=2)\n",
    "\n",
    "plt.savefig('Away Shotmap.png', bbox_inches='tight')\n",
    "plt.show()"
   ]
  }
 ],
 "metadata": {
  "kernelspec": {
   "display_name": "Python 3",
   "language": "python",
   "name": "python3"
  },
  "language_info": {
   "codemirror_mode": {
    "name": "ipython",
    "version": 3
   },
   "file_extension": ".py",
   "mimetype": "text/x-python",
   "name": "python",
   "nbconvert_exporter": "python",
   "pygments_lexer": "ipython3",
   "version": "3.11.4"
  }
 },
 "nbformat": 4,
 "nbformat_minor": 2
}
